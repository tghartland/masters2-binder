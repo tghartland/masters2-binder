{
 "cells": [
  {
   "cell_type": "code",
   "execution_count": 1,
   "metadata": {},
   "outputs": [
    {
     "name": "stdout",
     "output_type": "stream",
     "text": [
      "Welcome to JupyROOT 6.18/02\n"
     ]
    }
   ],
   "source": [
    "import time\n",
    "import logging\n",
    "logging.basicConfig(level=logging.WARN)\n",
    "logging.getLogger(\"matplotlib\").setLevel(logging.WARNING)\n",
    "logging.getLogger(\"rootpy.plotting.style\").setLevel(logging.WARNING)\n",
    "import rootpy.ROOT as ROOT\n",
    "import rootpy.plotting.root2matplotlib\n",
    "from rootpy.plotting.style import get_style, set_style\n",
    "import matplotlib.pyplot as plt\n",
    "ROOT.gErrorIgnoreLevel = 7000\n",
    "ROOT.gROOT.SetBatch(True)"
   ]
  },
  {
   "cell_type": "code",
   "execution_count": 2,
   "metadata": {},
   "outputs": [],
   "source": [
    "%matplotlib widget"
   ]
  },
  {
   "cell_type": "code",
   "execution_count": 3,
   "metadata": {},
   "outputs": [],
   "source": [
    "c = ROOT.TCanvas(\"myCanvasName\",\"The Canvas Title\",800,600)\n",
    "h = ROOT.TH1F(\"gauss\",\"Gaussian distribution\",99,-4,4)"
   ]
  },
  {
   "cell_type": "code",
   "execution_count": 4,
   "metadata": {},
   "outputs": [
    {
     "data": {
      "application/vnd.jupyter.widget-view+json": {
       "model_id": "c7d8751c15cf467da2521e3422766cad",
       "version_major": 2,
       "version_minor": 0
      },
      "text/plain": [
       "Canvas(toolbar=Toolbar(toolitems=[('Home', 'Reset original view', 'home', 'home'), ('Back', 'Back to previous …"
      ]
     },
     "metadata": {},
     "output_type": "display_data"
    }
   ],
   "source": [
    "set_style(\"ATLAS\", mpl=True)\n",
    "f,ax = plt.subplots(1)\n",
    "f.canvas.toolbar_visible = False\n",
    "f.set_size_inches(7, 4.5)\n",
    "while True:\n",
    "    try:\n",
    "        h.FillRandom(\"gaus\", 500)\n",
    "        rootpy.plotting.root2matplotlib.hist(h, stacked=False, axes=ax)\n",
    "        f.canvas.draw()\n",
    "        time.sleep(1)\n",
    "    except KeyboardInterrupt:\n",
    "        break"
   ]
  },
  {
   "cell_type": "code",
   "execution_count": null,
   "metadata": {},
   "outputs": [],
   "source": []
  }
 ],
 "metadata": {
  "kernelspec": {
   "display_name": "Python 3",
   "language": "python",
   "name": "python3"
  },
  "language_info": {
   "codemirror_mode": {
    "name": "ipython",
    "version": 3
   },
   "file_extension": ".py",
   "mimetype": "text/x-python",
   "name": "python",
   "nbconvert_exporter": "python",
   "pygments_lexer": "ipython3",
   "version": "3.6.8"
  }
 },
 "nbformat": 4,
 "nbformat_minor": 4
}
