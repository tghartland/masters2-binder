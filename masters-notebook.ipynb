{
 "cells": [
  {
   "cell_type": "code",
   "execution_count": null,
   "metadata": {
    "scrolled": true
   },
   "outputs": [],
   "source": [
    "import time\n",
    "\n",
    "import masters.plot as plot\n",
    "import masters.process as process\n",
    "import masters.db as db"
   ]
  },
  {
   "cell_type": "code",
   "execution_count": null,
   "metadata": {},
   "outputs": [],
   "source": [
    "%matplotlib widget"
   ]
  },
  {
   "cell_type": "code",
   "execution_count": null,
   "metadata": {},
   "outputs": [],
   "source": [
    "fig, ax = plot.setup_figure()"
   ]
  },
  {
   "cell_type": "code",
   "execution_count": null,
   "metadata": {},
   "outputs": [],
   "source": [
    "REDIS_HOST = !kubectl get secret redis-connection -o jsonpath='{.data.REDIS_HOST}' | base64 --decode\n",
    "REDIS_PORT = !kubectl get secret redis-connection -o jsonpath='{.data.REDIS_PORT}' | base64 --decode\n",
    "redis = db.create_client(REDIS_HOST[0], REDIS_PORT[0])"
   ]
  },
  {
   "cell_type": "code",
   "execution_count": null,
   "metadata": {},
   "outputs": [],
   "source": [
    "workflow = !argo submit masters-workflow.yaml -o name\n",
    "workflow = workflow[0]"
   ]
  },
  {
   "cell_type": "code",
   "execution_count": null,
   "metadata": {},
   "outputs": [],
   "source": [
    "while \"workflow\" not in db.get_data(redis, workflow):\n",
    "    continue\n",
    "\n",
    "time.sleep(1)\n",
    "\n",
    "raw_data = db.get_data(redis, workflow)\n",
    "theory_data = process.process_theory_data(raw_data)"
   ]
  },
  {
   "cell_type": "code",
   "execution_count": null,
   "metadata": {},
   "outputs": [],
   "source": [
    "while True:\n",
    "    try:\n",
    "        ax.clear()\n",
    "        raw_data = db.get_data(redis, workflow)\n",
    "        processed_data = process.process(raw_data)\n",
    "        plot.plot(ax, raw_data, theory_data, processed_data)\n",
    "        fig.canvas.draw()\n",
    "        time.sleep(1)\n",
    "    except KeyboardInterrupt:\n",
    "        break"
   ]
  }
 ],
 "metadata": {
  "kernelspec": {
   "display_name": "Python 3",
   "language": "python",
   "name": "python3"
  },
  "language_info": {
   "codemirror_mode": {
    "name": "ipython",
    "version": 3
   },
   "file_extension": ".py",
   "mimetype": "text/x-python",
   "name": "python",
   "nbconvert_exporter": "python",
   "pygments_lexer": "ipython3",
   "version": "3.6.8"
  }
 },
 "nbformat": 4,
 "nbformat_minor": 4
}
